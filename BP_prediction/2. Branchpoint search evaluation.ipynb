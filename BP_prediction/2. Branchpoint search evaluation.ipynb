{
 "cells": [
  {
   "cell_type": "markdown",
   "id": "e7fa9044-8152-4f38-8cda-610f7d35ddd6",
   "metadata": {},
   "source": [
    "# Search of branchpoint in all introns"
   ]
  },
  {
   "attachments": {
    "e15cc7bc-e1c8-4f8a-a539-fbd577e57b62.png": {
     "image/png": "[encoded data removed]"
    }
   },
   "cell_type": "markdown",
   "id": "615269da-2335-49f1-a0f7-5ab4536b2108",
   "metadata": {},
   "source": [
    "In first notebook we chosen the best model for search branchpoints in introns. Now we want to find branch points in all introns. \n",
    "\n",
    "To do this, for the last 50 positions of each intron, we find the probability that each position is a branch point and choose the largest of them.\n",
    "![image.png](attachment:e15cc7bc-e1c8-4f8a-a539-fbd577e57b62.png)"
   ]
  },
  {
   "cell_type": "code",
   "execution_count": 1,
   "id": "058bfe92-cd70-4d79-a09f-7ce4ff660906",
   "metadata": {},
   "outputs": [],
   "source": [
    "from Bio import SeqIO\n",
    "from tqdm import tqdm\n",
    "from collections import Counter\n",
    "import seaborn as sns\n",
    "import pandas as pd\n",
    "import numpy as np\n",
    "import itertools\n",
    "import matplotlib.pyplot as plt\n",
    "\n",
    "from sklearn.utils import shuffle\n",
    "from sklearn.model_selection import train_test_split\n",
    "from sklearn.utils.random import sample_without_replacement\n",
    "from sklearn.model_selection import cross_val_score\n",
    "\n",
    "from sklearn.ensemble import RandomForestClassifier"
   ]
  },
  {
   "cell_type": "markdown",
   "id": "de8c2dc9-0604-4015-801e-9b56b705ae35",
   "metadata": {
    "tags": []
   },
   "source": [
    "# Initial data"
   ]
  },
  {
   "cell_type": "code",
   "execution_count": 2,
   "id": "1707bd9f-4ea7-4e24-9bc6-2da79219e110",
   "metadata": {},
   "outputs": [],
   "source": [
    "#reference genome\n",
    "hg19 = SeqIO.to_dict(SeqIO.parse(\"input data/hg19.fa\", \"fasta\"))"
   ]
  },
  {
   "cell_type": "code",
   "execution_count": 3,
   "id": "4ed85540-2dcd-4ff5-af3a-5b33821433eb",
   "metadata": {},
   "outputs": [],
   "source": [
    "#introns positions\n",
    "introns = pd.read_csv('input data/ann_gencode_v19.bed', sep = '\\t', header = None, names = ['chr', 'start', 'stop', 'ID', 'score', 'strand'])\n",
    "introns = introns[introns['chr'].isin(hg19.keys())]\n",
    "introns.drop('ID', inplace=True, axis=1)\n",
    "introns = introns.drop_duplicates()"
   ]
  },
  {
   "cell_type": "code",
   "execution_count": 4,
   "id": "482d0abf-e93b-4b32-b61d-f14ec694f4aa",
   "metadata": {},
   "outputs": [],
   "source": [
    "#high confidence banchpoints positions \n",
    "bp = pd.read_csv('input data/high_confidence_branchpoints.bed', sep = '\\t', header = None, names = ['chr', 'start', 'stop', 'ID', 'score', 'strand'])"
   ]
  },
  {
   "cell_type": "markdown",
   "id": "0a876370-2c33-4216-89f1-15386de29f4d",
   "metadata": {
    "tags": []
   },
   "source": [
    "# Functions for model creation"
   ]
  },
  {
   "cell_type": "code",
   "execution_count": 5,
   "id": "e883e4a1-1700-4e87-a053-3a419fe8102d",
   "metadata": {},
   "outputs": [],
   "source": [
    "def count_kmers(read, k):\n",
    "    '''\n",
    "    count k-mers distribution in read\n",
    "    output: dictionary {k-mer:number of k-mer in this read}\n",
    "    '''\n",
    "    read = str(read).upper()\n",
    "    counts = {}\n",
    "    num_kmers = len(read) - k + 1\n",
    "    for i in range(num_kmers):\n",
    "        kmer = read[i:i+k]\n",
    "        if 'N' in kmer: \n",
    "            continue\n",
    "        if kmer not in counts:\n",
    "            counts[kmer] = 0\n",
    "        counts[kmer] += 1\n",
    "    return counts\n",
    "\n",
    "def kmers_pos(chrom, pos, n, k):\n",
    "    '''\n",
    "    count k-mers dist in (pos-n, pos+n)\n",
    "    output: sorted by k-mer names disctionary {k-mer: number of k-mer in (pos-n, pos+n)}\n",
    "    '''\n",
    "    genom_chr = hg19[chrom]\n",
    "\n",
    "    kmers = {}\n",
    "    bp_round = genom_chr[pos-n:pos+n]\n",
    "    cnt = count_kmers(bp_round.seq, k)\n",
    "\n",
    "    kmers = Counter(cnt)\n",
    "    kmers = dict(sorted(kmers.items()))\n",
    "    \n",
    "    return kmers"
   ]
  },
  {
   "cell_type": "markdown",
   "id": "2506c1e8-5dd0-46fd-b894-db5cda9ce31a",
   "metadata": {},
   "source": [
    "# Branchpoint detection (model validation)"
   ]
  },
  {
   "cell_type": "markdown",
   "id": "33642b51-c938-46f6-ab9d-472197e4bb43",
   "metadata": {},
   "source": [
    "Here we wanted to evaluate the reasonableness of the model. To do this, we compared high confidence branchpoints and those found by the model in same intron. We expected them to match."
   ]
  },
  {
   "cell_type": "code",
   "execution_count": 58,
   "id": "df68fc95-47d0-40f9-881f-0b8ef3fde36f",
   "metadata": {},
   "outputs": [],
   "source": [
    "chrom = 'chr1'\n",
    "bp_chrom = bp[bp['chr']==chrom]\n",
    "intron_chrom = introns[introns['chr']==chrom]"
   ]
  },
  {
   "cell_type": "code",
   "execution_count": 9,
   "id": "80b3e92a-5b5f-453d-8655-d4de4894e222",
   "metadata": {},
   "outputs": [
    {
     "name": "stderr",
     "output_type": "stream",
     "text": [
      "100%|██████████| 7966/7966 [00:29<00:00, 270.93it/s]\n"
     ]
    }
   ],
   "source": [
    "#find all introns in chromosome with high confidence BP\n",
    "int_bp = pd.DataFrame(columns = ['chr', 'int_start', 'int_end', 'bp_start', 'bp_end', 'strand_int', 'strand_bp'])\n",
    "for j in tqdm(range(len(bp_chrom))):\n",
    "    cur_int = intron_chrom[(intron_chrom['start'] <= bp_chrom.iloc[j]['start']) & (bp_chrom.iloc[j]['stop'] <= intron_chrom['stop'])].iloc[-1]\n",
    "    a = [chrom, cur_int['start'], cur_int['stop'], \n",
    "                     bp_chrom.iloc[j]['start'], bp_chrom.iloc[j]['stop'], \n",
    "                    cur_int['strand'], bp_chrom.iloc[j]['strand']]\n",
    "    int_bp = int_bp.append({int_bp.columns[i]:a[i] for i in range(len(a))}, ignore_index = True)\n",
    "int_bp = int_bp[int_bp['strand_int']== int_bp['strand_bp']]"
   ]
  },
  {
   "cell_type": "code",
   "execution_count": 10,
   "id": "e4db8fe1-5a5f-4971-99f4-45f3b8f1cf7d",
   "metadata": {},
   "outputs": [
    {
     "data": {
      "text/html": [
       "<div>\n",
       "<style scoped>\n",
       "    .dataframe tbody tr th:only-of-type {\n",
       "        vertical-align: middle;\n",
       "    }\n",
       "\n",
       "    .dataframe tbody tr th {\n",
       "        vertical-align: top;\n",
       "    }\n",
       "\n",
       "    .dataframe thead th {\n",
       "        text-align: right;\n",
       "    }\n",
       "</style>\n",
       "<table border=\"1\" class=\"dataframe\">\n",
       "  <thead>\n",
       "    <tr style=\"text-align: right;\">\n",
       "      <th></th>\n",
       "      <th>chr</th>\n",
       "      <th>int_start</th>\n",
       "      <th>int_end</th>\n",
       "      <th>bp_start</th>\n",
       "      <th>bp_end</th>\n",
       "      <th>strand_int</th>\n",
       "      <th>strand_bp</th>\n",
       "    </tr>\n",
       "  </thead>\n",
       "  <tbody>\n",
       "    <tr>\n",
       "      <th>0</th>\n",
       "      <td>chr1</td>\n",
       "      <td>91629</td>\n",
       "      <td>92090</td>\n",
       "      <td>91661</td>\n",
       "      <td>91662</td>\n",
       "      <td>-</td>\n",
       "      <td>-</td>\n",
       "    </tr>\n",
       "    <tr>\n",
       "      <th>1</th>\n",
       "      <td>chr1</td>\n",
       "      <td>705092</td>\n",
       "      <td>708355</td>\n",
       "      <td>705123</td>\n",
       "      <td>705124</td>\n",
       "      <td>-</td>\n",
       "      <td>-</td>\n",
       "    </tr>\n",
       "    <tr>\n",
       "      <th>2</th>\n",
       "      <td>chr1</td>\n",
       "      <td>708487</td>\n",
       "      <td>709550</td>\n",
       "      <td>708510</td>\n",
       "      <td>708511</td>\n",
       "      <td>-</td>\n",
       "      <td>-</td>\n",
       "    </tr>\n",
       "    <tr>\n",
       "      <th>3</th>\n",
       "      <td>chr1</td>\n",
       "      <td>764484</td>\n",
       "      <td>787306</td>\n",
       "      <td>784824</td>\n",
       "      <td>784825</td>\n",
       "      <td>+</td>\n",
       "      <td>+</td>\n",
       "    </tr>\n",
       "    <tr>\n",
       "      <th>4</th>\n",
       "      <td>chr1</td>\n",
       "      <td>787490</td>\n",
       "      <td>788050</td>\n",
       "      <td>788027</td>\n",
       "      <td>788028</td>\n",
       "      <td>+</td>\n",
       "      <td>+</td>\n",
       "    </tr>\n",
       "    <tr>\n",
       "      <th>...</th>\n",
       "      <td>...</td>\n",
       "      <td>...</td>\n",
       "      <td>...</td>\n",
       "      <td>...</td>\n",
       "      <td>...</td>\n",
       "      <td>...</td>\n",
       "      <td>...</td>\n",
       "    </tr>\n",
       "    <tr>\n",
       "      <th>7961</th>\n",
       "      <td>chr1</td>\n",
       "      <td>249151696</td>\n",
       "      <td>249151937</td>\n",
       "      <td>249151710</td>\n",
       "      <td>249151711</td>\n",
       "      <td>-</td>\n",
       "      <td>-</td>\n",
       "    </tr>\n",
       "    <tr>\n",
       "      <th>7962</th>\n",
       "      <td>chr1</td>\n",
       "      <td>249151696</td>\n",
       "      <td>249151937</td>\n",
       "      <td>249151717</td>\n",
       "      <td>249151718</td>\n",
       "      <td>-</td>\n",
       "      <td>-</td>\n",
       "    </tr>\n",
       "    <tr>\n",
       "      <th>7963</th>\n",
       "      <td>chr1</td>\n",
       "      <td>249151696</td>\n",
       "      <td>249151937</td>\n",
       "      <td>249151723</td>\n",
       "      <td>249151724</td>\n",
       "      <td>-</td>\n",
       "      <td>-</td>\n",
       "    </tr>\n",
       "    <tr>\n",
       "      <th>7964</th>\n",
       "      <td>chr1</td>\n",
       "      <td>249152058</td>\n",
       "      <td>249152329</td>\n",
       "      <td>249152081</td>\n",
       "      <td>249152082</td>\n",
       "      <td>-</td>\n",
       "      <td>-</td>\n",
       "    </tr>\n",
       "    <tr>\n",
       "      <th>7965</th>\n",
       "      <td>chr1</td>\n",
       "      <td>249152058</td>\n",
       "      <td>249152329</td>\n",
       "      <td>249152083</td>\n",
       "      <td>249152084</td>\n",
       "      <td>-</td>\n",
       "      <td>-</td>\n",
       "    </tr>\n",
       "  </tbody>\n",
       "</table>\n",
       "<p>7941 rows × 7 columns</p>\n",
       "</div>"
      ],
      "text/plain": [
       "       chr  int_start    int_end   bp_start     bp_end strand_int strand_bp\n",
       "0     chr1      91629      92090      91661      91662          -         -\n",
       "1     chr1     705092     708355     705123     705124          -         -\n",
       "2     chr1     708487     709550     708510     708511          -         -\n",
       "3     chr1     764484     787306     784824     784825          +         +\n",
       "4     chr1     787490     788050     788027     788028          +         +\n",
       "...    ...        ...        ...        ...        ...        ...       ...\n",
       "7961  chr1  249151696  249151937  249151710  249151711          -         -\n",
       "7962  chr1  249151696  249151937  249151717  249151718          -         -\n",
       "7963  chr1  249151696  249151937  249151723  249151724          -         -\n",
       "7964  chr1  249152058  249152329  249152081  249152082          -         -\n",
       "7965  chr1  249152058  249152329  249152083  249152084          -         -\n",
       "\n",
       "[7941 rows x 7 columns]"
      ]
     },
     "execution_count": 10,
     "metadata": {},
     "output_type": "execute_result"
    }
   ],
   "source": [
    "int_bp"
   ]
  },
  {
   "cell_type": "markdown",
   "id": "89ff245c-e284-4701-9ad2-f40995baf702",
   "metadata": {},
   "source": [
    "# Search for branchpoints. Evaluation"
   ]
  },
  {
   "cell_type": "code",
   "execution_count": 7,
   "id": "2987835f-5b88-4e68-ad0f-ddcabe51d425",
   "metadata": {},
   "outputs": [],
   "source": [
    "n, k = 70, 5"
   ]
  },
  {
   "cell_type": "code",
   "execution_count": 8,
   "id": "d5a507f1-f72d-4e54-9daf-847e7fbb0c52",
   "metadata": {},
   "outputs": [
    {
     "data": {
      "text/plain": [
       "RandomForestClassifier()"
      ]
     },
     "execution_count": 8,
     "metadata": {},
     "output_type": "execute_result"
    }
   ],
   "source": [
    "X = np.load('Xy for training model (n=70, k=5)/X_70_5'+chrom+'.npy')\n",
    "X = pd.DataFrame(X, columns = ['pos', *[''.join(i) for i in itertools.product('ATGC', repeat = 5)], 'dist3'])\n",
    "y = np.load('Xy for training model (n=70, k=5)/y_70_5'+chrom+'.npy')\n",
    "\n",
    "model = RandomForestClassifier()\n",
    "model.fit(X, y)"
   ]
  },
  {
   "cell_type": "code",
   "execution_count": 16,
   "id": "0235ba65-0549-4875-8cd2-a2faeb18b9bf",
   "metadata": {},
   "outputs": [
    {
     "name": "stderr",
     "output_type": "stream",
     "text": [
      "100%|██████████| 7941/7941 [16:59<00:00,  7.79it/s]\n"
     ]
    }
   ],
   "source": [
    "BP = pd.DataFrame(columns = [*int_bp.columns, 'BP'])\n",
    "\n",
    "X_bp = pd.DataFrame(columns = [''.join(i) for i in itertools.product('ATGC', repeat = k)])\n",
    "for i in tqdm(range(len(int_bp))):\n",
    "    near_to_3 = []\n",
    "    dist_to_3 = {}\n",
    "    start, stop, strand = int_bp.iloc[i]['int_start'], int_bp.iloc[i]['int_end'], int_bp.iloc[i]['strand_int']\n",
    "    for j in range(start, stop+1):\n",
    "        if strand == '+': #start -> stop is 5' -> 3' \n",
    "            dist_to_3[j] = stop - j\n",
    "            if stop - j <= 50:\n",
    "                near_to_3.append(j)\n",
    "        else:             #start -> stop is 3' -> 5' \n",
    "            dist_to_3[j] = j - start\n",
    "            if stop - j <= 50:\n",
    "                near_to_3.append(j)\n",
    "            \n",
    "    X_bp = pd.DataFrame(columns = [''.join(i) for i in itertools.product('ATGC', repeat = k)])\n",
    "    for pos in near_to_3:\n",
    "        X_bp = X_bp.append(kmers_pos(chrom, pos, n, k), ignore_index=True)\n",
    "    X_bp.insert(loc=0, column='pos', value = near_to_3)\n",
    "    X_bp = X_bp.fillna(0)\n",
    "    X_bp['dist3'] = [dist_to_3[x] for x in X_bp['pos']]\n",
    "    p_pred = model.predict_proba(X_bp)\n",
    "    bp_cur = X_bp['pos'].iloc[np.where(p_pred[:, 1] == max(p_pred[:, 1]))[0][0]]\n",
    "    row_cur = [*list(int_bp.iloc[i]), bp_cur]\n",
    "    BP = BP.append({BP.columns[i]: row_cur[i] for i in range(8)}, ignore_index=True).drop_duplicates()"
   ]
  },
  {
   "cell_type": "code",
   "execution_count": 17,
   "id": "ab888145-24e1-4638-a9f8-5a91261464e5",
   "metadata": {},
   "outputs": [
    {
     "data": {
      "text/html": [
       "<div>\n",
       "<style scoped>\n",
       "    .dataframe tbody tr th:only-of-type {\n",
       "        vertical-align: middle;\n",
       "    }\n",
       "\n",
       "    .dataframe tbody tr th {\n",
       "        vertical-align: top;\n",
       "    }\n",
       "\n",
       "    .dataframe thead th {\n",
       "        text-align: right;\n",
       "    }\n",
       "</style>\n",
       "<table border=\"1\" class=\"dataframe\">\n",
       "  <thead>\n",
       "    <tr style=\"text-align: right;\">\n",
       "      <th></th>\n",
       "      <th>chr</th>\n",
       "      <th>int_start</th>\n",
       "      <th>int_end</th>\n",
       "      <th>bp_start</th>\n",
       "      <th>bp_end</th>\n",
       "      <th>strand_int</th>\n",
       "      <th>strand_bp</th>\n",
       "      <th>BP</th>\n",
       "    </tr>\n",
       "  </thead>\n",
       "  <tbody>\n",
       "    <tr>\n",
       "      <th>0</th>\n",
       "      <td>chr1</td>\n",
       "      <td>91629</td>\n",
       "      <td>92090</td>\n",
       "      <td>91661</td>\n",
       "      <td>91662</td>\n",
       "      <td>-</td>\n",
       "      <td>-</td>\n",
       "      <td>92082</td>\n",
       "    </tr>\n",
       "    <tr>\n",
       "      <th>1</th>\n",
       "      <td>chr1</td>\n",
       "      <td>705092</td>\n",
       "      <td>708355</td>\n",
       "      <td>705123</td>\n",
       "      <td>705124</td>\n",
       "      <td>-</td>\n",
       "      <td>-</td>\n",
       "      <td>708317</td>\n",
       "    </tr>\n",
       "    <tr>\n",
       "      <th>2</th>\n",
       "      <td>chr1</td>\n",
       "      <td>708487</td>\n",
       "      <td>709550</td>\n",
       "      <td>708510</td>\n",
       "      <td>708511</td>\n",
       "      <td>-</td>\n",
       "      <td>-</td>\n",
       "      <td>709526</td>\n",
       "    </tr>\n",
       "    <tr>\n",
       "      <th>3</th>\n",
       "      <td>chr1</td>\n",
       "      <td>764484</td>\n",
       "      <td>787306</td>\n",
       "      <td>784824</td>\n",
       "      <td>784825</td>\n",
       "      <td>+</td>\n",
       "      <td>+</td>\n",
       "      <td>787301</td>\n",
       "    </tr>\n",
       "    <tr>\n",
       "      <th>4</th>\n",
       "      <td>chr1</td>\n",
       "      <td>787490</td>\n",
       "      <td>788050</td>\n",
       "      <td>788027</td>\n",
       "      <td>788028</td>\n",
       "      <td>+</td>\n",
       "      <td>+</td>\n",
       "      <td>788025</td>\n",
       "    </tr>\n",
       "    <tr>\n",
       "      <th>...</th>\n",
       "      <td>...</td>\n",
       "      <td>...</td>\n",
       "      <td>...</td>\n",
       "      <td>...</td>\n",
       "      <td>...</td>\n",
       "      <td>...</td>\n",
       "      <td>...</td>\n",
       "      <td>...</td>\n",
       "    </tr>\n",
       "    <tr>\n",
       "      <th>7936</th>\n",
       "      <td>chr1</td>\n",
       "      <td>249151696</td>\n",
       "      <td>249151937</td>\n",
       "      <td>249151710</td>\n",
       "      <td>249151711</td>\n",
       "      <td>-</td>\n",
       "      <td>-</td>\n",
       "      <td>249151924</td>\n",
       "    </tr>\n",
       "    <tr>\n",
       "      <th>7937</th>\n",
       "      <td>chr1</td>\n",
       "      <td>249151696</td>\n",
       "      <td>249151937</td>\n",
       "      <td>249151717</td>\n",
       "      <td>249151718</td>\n",
       "      <td>-</td>\n",
       "      <td>-</td>\n",
       "      <td>249151924</td>\n",
       "    </tr>\n",
       "    <tr>\n",
       "      <th>7938</th>\n",
       "      <td>chr1</td>\n",
       "      <td>249151696</td>\n",
       "      <td>249151937</td>\n",
       "      <td>249151723</td>\n",
       "      <td>249151724</td>\n",
       "      <td>-</td>\n",
       "      <td>-</td>\n",
       "      <td>249151924</td>\n",
       "    </tr>\n",
       "    <tr>\n",
       "      <th>7939</th>\n",
       "      <td>chr1</td>\n",
       "      <td>249152058</td>\n",
       "      <td>249152329</td>\n",
       "      <td>249152081</td>\n",
       "      <td>249152082</td>\n",
       "      <td>-</td>\n",
       "      <td>-</td>\n",
       "      <td>249152302</td>\n",
       "    </tr>\n",
       "    <tr>\n",
       "      <th>7940</th>\n",
       "      <td>chr1</td>\n",
       "      <td>249152058</td>\n",
       "      <td>249152329</td>\n",
       "      <td>249152083</td>\n",
       "      <td>249152084</td>\n",
       "      <td>-</td>\n",
       "      <td>-</td>\n",
       "      <td>249152302</td>\n",
       "    </tr>\n",
       "  </tbody>\n",
       "</table>\n",
       "<p>7941 rows × 8 columns</p>\n",
       "</div>"
      ],
      "text/plain": [
       "       chr  int_start    int_end   bp_start     bp_end strand_int strand_bp  \\\n",
       "0     chr1      91629      92090      91661      91662          -         -   \n",
       "1     chr1     705092     708355     705123     705124          -         -   \n",
       "2     chr1     708487     709550     708510     708511          -         -   \n",
       "3     chr1     764484     787306     784824     784825          +         +   \n",
       "4     chr1     787490     788050     788027     788028          +         +   \n",
       "...    ...        ...        ...        ...        ...        ...       ...   \n",
       "7936  chr1  249151696  249151937  249151710  249151711          -         -   \n",
       "7937  chr1  249151696  249151937  249151717  249151718          -         -   \n",
       "7938  chr1  249151696  249151937  249151723  249151724          -         -   \n",
       "7939  chr1  249152058  249152329  249152081  249152082          -         -   \n",
       "7940  chr1  249152058  249152329  249152083  249152084          -         -   \n",
       "\n",
       "             BP  \n",
       "0         92082  \n",
       "1        708317  \n",
       "2        709526  \n",
       "3        787301  \n",
       "4        788025  \n",
       "...         ...  \n",
       "7936  249151924  \n",
       "7937  249151924  \n",
       "7938  249151924  \n",
       "7939  249152302  \n",
       "7940  249152302  \n",
       "\n",
       "[7941 rows x 8 columns]"
      ]
     },
     "execution_count": 17,
     "metadata": {},
     "output_type": "execute_result"
    }
   ],
   "source": [
    "BP"
   ]
  },
  {
   "cell_type": "code",
   "execution_count": 35,
   "id": "4c6bfba7-eb35-421e-ae91-79d0970612ad",
   "metadata": {},
   "outputs": [
    {
     "data": {
      "text/plain": [
       "Text(0.5, 0, 'BP_ref-BP_found')"
      ]
     },
     "execution_count": 35,
     "metadata": {},
     "output_type": "execute_result"
    },
    {
     "data": {
      "image/png": "[encoded data removed]",
      "text/plain": [
       "<Figure size 432x288 with 1 Axes>"
      ]
     },
     "metadata": {
      "needs_background": "light"
     },
     "output_type": "display_data"
    }
   ],
   "source": [
    "cnt =  dict(sorted(Counter(BP['bp_start']-BP['BP']).items()))\n",
    "plt.plot(cnt.keys(), cnt.values())\n",
    "plt.xlim(-50, 50)\n",
    "plt.xlabel('BP_ref-BP_found')"
   ]
  },
  {
   "cell_type": "code",
   "execution_count": 41,
   "id": "207ceeed-da88-486c-ad5c-3e82923eff1a",
   "metadata": {},
   "outputs": [
    {
     "data": {
      "image/png": "[encoded data removed]",
      "text/plain": [
       "<Figure size 432x288 with 1 Axes>"
      ]
     },
     "metadata": {
      "needs_background": "light"
     },
     "output_type": "display_data"
    }
   ],
   "source": [
    "#plot hisogram\n",
    "cnt = BP['bp_start']-BP['BP']\n",
    "sns.histplot(cnt[abs(cnt) < 30], discrete = True, stat='density')\n",
    "plt.xlabel('BP_ref-BP_found')\n",
    "plt.tight_layout()"
   ]
  },
  {
   "cell_type": "markdown",
   "id": "68413cea-a807-4af6-a4c4-51c31c07e81a",
   "metadata": {},
   "source": [
    "Thus, most often we hit exactly, and the spread is no more than 20 bases"
   ]
  },
  {
   "cell_type": "markdown",
   "id": "1e37c16b-6ef0-42cb-abd7-465e3514cff0",
   "metadata": {},
   "source": [
    "# Probability of being BP for 3' end"
   ]
  },
  {
   "cell_type": "code",
   "execution_count": 15,
   "id": "1274555d-08a0-4d27-b830-060cc9785d0f",
   "metadata": {},
   "outputs": [],
   "source": [
    "near_to_3 = []\n",
    "dist_to_3 = {}\n",
    "i=0\n",
    "start, stop, strand = intron_chrom.iloc[i]['start'], intron_chrom.iloc[i]['stop'], intron_chrom.iloc[i]['strand']\n",
    "for j in range(start, stop+1):\n",
    "    if strand == '+': #start -> stop is 5' -> 3' \n",
    "        dist_to_3[j] = stop - j\n",
    "        if stop - j <= 50:\n",
    "            near_to_3.append(j)\n",
    "    else:             #start -> stop is 3' -> 5' \n",
    "        dist_to_3[j] = j - start\n",
    "        if stop - j <= 50:\n",
    "            near_to_3.append(j)\n",
    "\n",
    "X_bp = pd.DataFrame(columns = [''.join(i) for i in itertools.product('ATGC', repeat = k)])\n",
    "for pos in near_to_3:\n",
    "    X_bp = X_bp.append(kmers_pos(chrom, pos, n, k), ignore_index=True)\n",
    "X_bp.insert(loc=0, column='pos', value = near_to_3)\n",
    "X_bp = X_bp.fillna(0)\n",
    "X_bp['dist3'] = [dist_to_3[x] for x in X_bp['pos']]\n",
    "p = model.predict_proba(X_bp)[:, 1]"
   ]
  },
  {
   "cell_type": "code",
   "execution_count": 16,
   "id": "8e02bf20-13d7-4fc3-a9d5-ed886035571c",
   "metadata": {},
   "outputs": [
    {
     "data": {
      "text/plain": [
       "Text(0, 0.5, 'p(label=1)')"
      ]
     },
     "execution_count": 16,
     "metadata": {},
     "output_type": "execute_result"
    },
    {
     "data": {
      "image/png": "[encoded data removed]",
      "text/plain": [
       "<Figure size 432x288 with 1 Axes>"
      ]
     },
     "metadata": {
      "needs_background": "light"
     },
     "output_type": "display_data"
    }
   ],
   "source": [
    "plt.plot(np.arange(len(p)), p)\n",
    "bp_ = np.arange(len(p))[np.where(p == max(p))[0][0]]\n",
    "plt.axvline(bp_, linestyle = '--', label = str(bp_), color = 'k')\n",
    "plt.legend()\n",
    "plt.xlabel('distance to 3 end')\n",
    "plt.ylabel('p(label=1)')"
   ]
  },
  {
   "cell_type": "markdown",
   "id": "3905b0e1-a450-4a92-adbc-64c74939316c",
   "metadata": {},
   "source": [
    "So we see that there is a maximum which we call the branchpoint"
   ]
  }
 ],
 "metadata": {
  "kernelspec": {
   "display_name": "Python 3 (ipykernel)",
   "language": "python",
   "name": "python3"
  },
  "language_info": {
   "codemirror_mode": {
    "name": "ipython",
    "version": 3
   },
   "file_extension": ".py",
   "mimetype": "text/x-python",
   "name": "python",
   "nbconvert_exporter": "python",
   "pygments_lexer": "ipython3",
   "version": "3.9.7"
  }
 },
 "nbformat": 4,
 "nbformat_minor": 5
}
