{
 "cells": [
  {
   "cell_type": "markdown",
   "id": "e7fa9044-8152-4f38-8cda-610f7d35ddd6",
   "metadata": {
    "papermill": {
     "duration": 0.014927,
     "end_time": "2022-05-21T10:01:10.733360",
     "exception": false,
     "start_time": "2022-05-21T10:01:10.718433",
     "status": "completed"
    },
    "tags": []
   },
   "source": [
    "# Search of branchpoint in all introns"
   ]
  },
  {
   "cell_type": "code",
   "execution_count": 1,
   "id": "058bfe92-cd70-4d79-a09f-7ce4ff660906",
   "metadata": {
    "papermill": {
     "duration": 2.705768,
     "end_time": "2022-05-21T10:01:13.474443",
     "exception": false,
     "start_time": "2022-05-21T10:01:10.768675",
     "status": "completed"
    },
    "tags": []
   },
   "outputs": [],
   "source": [
    "from Bio import SeqIO\n",
    "from tqdm import tqdm\n",
    "from collections import Counter\n",
    "import seaborn as sns\n",
    "import pandas as pd\n",
    "import numpy as np\n",
    "import itertools\n",
    "import matplotlib.pyplot as plt\n",
    "\n",
    "from sklearn.utils import shuffle\n",
    "from sklearn.model_selection import train_test_split\n",
    "from sklearn.utils.random import sample_without_replacement\n",
    "from sklearn.model_selection import cross_val_score\n",
    "\n",
    "from sklearn.ensemble import RandomForestClassifier"
   ]
  },
  {
   "cell_type": "markdown",
   "id": "de8c2dc9-0604-4015-801e-9b56b705ae35",
   "metadata": {
    "papermill": {
     "duration": 0.021965,
     "end_time": "2022-05-21T10:01:13.520123",
     "exception": false,
     "start_time": "2022-05-21T10:01:13.498158",
     "status": "completed"
    },
    "tags": []
   },
   "source": [
    "# Initial data"
   ]
  },
  {
   "cell_type": "code",
   "execution_count": 2,
   "id": "1707bd9f-4ea7-4e24-9bc6-2da79219e110",
   "metadata": {},
   "outputs": [],
   "source": [
    "#reference genome\n",
    "hg19 = SeqIO.to_dict(SeqIO.parse(\"input data/hg19.fa\", \"fasta\"))"
   ]
  },
  {
   "cell_type": "code",
   "execution_count": 3,
   "id": "4ed85540-2dcd-4ff5-af3a-5b33821433eb",
   "metadata": {},
   "outputs": [],
   "source": [
    "#introns positions\n",
    "introns = pd.read_csv('input data/ann_gencode_v19.bed', sep = '\\t', header = None, names = ['chr', 'start', 'stop', 'ID', 'score', 'strand'])\n",
    "introns = introns[introns['chr'].isin(hg19.keys())]\n",
    "introns.drop('ID', inplace=True, axis=1)\n",
    "introns = introns.drop_duplicates()"
   ]
  },
  {
   "cell_type": "markdown",
   "id": "0a876370-2c33-4216-89f1-15386de29f4d",
   "metadata": {},
   "source": [
    "# Functions for model creation"
   ]
  },
  {
   "cell_type": "code",
   "execution_count": 4,
   "id": "6b91a4ae-7574-41b6-ae01-ca3b7eca5364",
   "metadata": {},
   "outputs": [],
   "source": [
    "def count_kmers(read, k):\n",
    "    '''\n",
    "    count k-mers distribution in read\n",
    "    output: dictionary {k-mer:number of k-mer in this read}\n",
    "    '''\n",
    "    read = str(read).upper()\n",
    "    counts = {}\n",
    "    num_kmers = len(read) - k + 1\n",
    "    for i in range(num_kmers):\n",
    "        kmer = read[i:i+k]\n",
    "        if 'N' in kmer: \n",
    "            continue\n",
    "        if kmer not in counts:\n",
    "            counts[kmer] = 0\n",
    "        counts[kmer] += 1\n",
    "    return counts\n",
    "\n",
    "def kmers_pos(chrom, pos, n, k):\n",
    "    '''\n",
    "    count k-mers dist in (pos-n, pos+n)\n",
    "    output: sorted by k-mer names disctionary {k-mer: number of k-mer in (pos-n, pos+n)}\n",
    "    '''\n",
    "    genom_chr = hg19[chrom]\n",
    "\n",
    "    kmers = {}\n",
    "    bp_round = genom_chr[pos-n:pos+n]\n",
    "    cnt = count_kmers(bp_round.seq, k)\n",
    "\n",
    "    kmers = Counter(cnt)\n",
    "    kmers = dict(sorted(kmers.items()))\n",
    "    \n",
    "    return kmers"
   ]
  },
  {
   "cell_type": "markdown",
   "id": "13ac67e8-7e43-4fef-8499-7db3b61e4a11",
   "metadata": {},
   "source": [
    "# Find BP in chromosome"
   ]
  },
  {
   "cell_type": "code",
   "execution_count": 5,
   "id": "c331cb7a-5ef4-4317-b91c-59f3b5504c91",
   "metadata": {},
   "outputs": [],
   "source": [
    "chrom = 'chr1'"
   ]
  },
  {
   "cell_type": "code",
   "execution_count": 6,
   "id": "b26db105",
   "metadata": {},
   "outputs": [],
   "source": [
    "# Parameters\n",
    "chrom = \"chr1\""
   ]
  },
  {
   "cell_type": "code",
   "execution_count": 7,
   "id": "a14f955d-e5aa-4a9a-b523-7298b4c40fea",
   "metadata": {},
   "outputs": [],
   "source": [
    "n, k = 70, 5"
   ]
  },
  {
   "cell_type": "code",
   "execution_count": 8,
   "id": "c0b57a33-959f-4198-ad56-7d6f355a0625",
   "metadata": {},
   "outputs": [],
   "source": [
    "def find_BP(chrom):\n",
    "\n",
    "    X = np.load('Xy for training model (n=70, k=5)/X_70_5'+chrom+'.npy')\n",
    "    X = pd.DataFrame(X, columns = ['pos', *[''.join(i) for i in itertools.product('ATGC', repeat = 5)], 'dist3'])\n",
    "    y = np.load('Xy for training model (n=70, k=5)/y_70_5'+chrom+'.npy')\n",
    "\n",
    "    model = RandomForestClassifier()\n",
    "    model.fit(X, y)\n",
    "    \n",
    "    introns_chrom = introns[introns['chr'] == chrom]\n",
    "    BP = pd.DataFrame(columns = [*introns_chrom.columns, 'BP'])\n",
    "    \n",
    "    #p = []\n",
    "    for i in tqdm(range(len(introns_chrom))):\n",
    "        near_to_3 = []\n",
    "        dist_to_3 = {}\n",
    "        start, stop, strand = introns_chrom.iloc[i]['start'], introns_chrom.iloc[i]['stop'], introns_chrom.iloc[i]['strand']\n",
    "        for j in range(start, stop+1):\n",
    "            if strand == '+': #start -> stop is 5' -> 3' \n",
    "                dist_to_3[j] = stop - j\n",
    "                if stop - j <= 50:\n",
    "                    near_to_3.append(j)\n",
    "            else:             #start -> stop is 3' -> 5' \n",
    "                dist_to_3[j] = j - start\n",
    "                if j - start <= 50:\n",
    "                    near_to_3.append(j)\n",
    "\n",
    "        X_bp = pd.DataFrame(columns = [''.join(i) for i in itertools.product('ATGC', repeat = k)])\n",
    "        for pos in near_to_3:\n",
    "            X_bp = X_bp.append(kmers_pos(chrom, pos, n, k), ignore_index=True)\n",
    "        X_bp.insert(loc=0, column='pos', value = near_to_3)\n",
    "        X_bp = X_bp.fillna(0)\n",
    "        X_bp['dist3'] = [dist_to_3[x] for x in X_bp['pos']]\n",
    "        p_pred = model.predict_proba(X_bp)\n",
    "        bp_cur = X_bp['pos'].iloc[np.where(p_pred[:, 1] == max(p_pred[:, 1]))[0][0]]\n",
    "        row_cur = [*list(introns_chrom.iloc[i]), bp_cur]\n",
    "        BP = BP.append({BP.columns[i]: row_cur[i] for i in range(6)}, ignore_index=True).drop_duplicates()\n",
    "        #p.append(p_pred[:, 1])\n",
    "    BP.to_csv('predicted BPs for all chromosomes/' + chrom + '.csv', index=False)\n",
    "    return"
   ]
  },
  {
   "cell_type": "code",
   "execution_count": null,
   "id": "ef164e2b-e88f-472d-ae3b-7f838c85da65",
   "metadata": {
    "scrolled": true,
    "tags": []
   },
   "outputs": [],
   "source": [
    "find_BP(chrom)"
   ]
  }
 ],
 "metadata": {
  "kernelspec": {
   "display_name": "Python 3 (ipykernel)",
   "language": "python",
   "name": "python3"
  },
  "language_info": {
   "codemirror_mode": {
    "name": "ipython",
    "version": 3
   },
   "file_extension": ".py",
   "mimetype": "text/x-python",
   "name": "python",
   "nbconvert_exporter": "python",
   "pygments_lexer": "ipython3",
   "version": "3.9.7"
  },
  "papermill": {
   "default_parameters": {},
   "duration": 3298.778863,
   "end_time": "2022-05-21T10:56:07.910134",
   "environment_variables": {},
   "exception": null,
   "input_path": "search_one_chrom.ipynb",
   "output_path": "search_chr2.ipynb",
   "parameters": {
    "chrom": "chr2"
   },
   "start_time": "2022-05-21T10:01:09.131271",
   "version": "2.3.4"
  }
 },
 "nbformat": 4,
 "nbformat_minor": 5
}
